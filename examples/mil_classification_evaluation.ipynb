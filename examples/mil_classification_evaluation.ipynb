{
 "cells": [
  {
   "cell_type": "code",
   "execution_count": 1,
   "metadata": {
    "collapsed": true
   },
   "outputs": [],
   "source": [
    "using JLD\n",
    "using PyPlot\n",
    "using StatsBase\n",
    "using Distributions\n",
    "using VBMatrixFactorization"
   ]
  },
  {
   "cell_type": "code",
   "execution_count": 2,
   "metadata": {},
   "outputs": [
    {
     "name": "stdout",
     "output_type": "stream",
     "text": [
      "\n",
      "Results of mean classsification error: \n",
      " \n",
      "     Dataset        |     Kmeans classification             |     VB factorization     \n",
      "                    |   max   |   min   |   mean   |  med   |   max   |   min   |   mean   |   med  \n",
      "------------------------------------------------------------------------------------------------------\n",
      "BrownCreeper        |  0.638     0.814     0.319     0.465  |  0.254     0.380     0.219      0.456 \n",
      "CorelAfrican        |  0.470     0.345     0.460     0.444  |  0.158     0.431     0.182      0.344 \n",
      "CorelBeach          |  0.391     0.289     0.395     0.359  |  0.115     0.417     0.138      0.292 \n",
      "Protein             |  0.456     0.466     0.456     0.456  |  0.471     -1.000     0.368      0.166 \n",
      "WinterWren          |  0.082     0.210     0.201     0.374  |  0.232     0.219     0.266      0.376 \n"
     ]
    }
   ],
   "source": [
    "# comparison with other methods\n",
    "class_res = load(\"/home/vit/Dropbox/vyzkum/cisco/data/julia_matlab/classification_res.jld\");\n",
    "\n",
    "function print_res(errs)\n",
    "    # print the result\n",
    "    print(\"\\nResults of mean classsification error: \\n \\n\")\n",
    "    print(\"     Dataset        |     Kmeans classification             |     VB factorization     \\n\")\n",
    "    print(\"                    |   max   |   min   |   mean   |  med   |   max   |   min   |   mean   |   med  \\n\")\n",
    "    print(\"------------------------------------------------------------------------------------------------------\\n\")\n",
    "    for i in 1:length(errs[\"fname\"])\n",
    "        print(string(errs[\"fname\"][i], repeat(\" \", 20-length(errs[\"fname\"][i]))))\n",
    "        @printf \"|  %0.3f     %0.3f     %0.3f     %0.3f  |  %0.3f     %0.3f     %0.3f      %0.3f \\n\" errs[\"km_max\"][i] errs[\"km_min\"][i] errs[\"km_mean\"][i] errs[\"km_med\"][i] errs[\"vb_max\"][i] errs[\"vb_min\"][i] errs[\"vb_mean\"][i] errs[\"vb_med\"][i]\n",
    "    end\n",
    "end\n",
    "\n",
    "print_res(class_res)"
   ]
  },
  {
   "cell_type": "code",
   "execution_count": 3,
   "metadata": {},
   "outputs": [
    {
     "data": {
      "text/plain": [
       "\"/home/vit/Dropbox/vyzkum/cisco/data/vbmf_classification\""
      ]
     },
     "execution_count": 3,
     "metadata": {},
     "output_type": "execute_result"
    }
   ],
   "source": [
    "output_path = \"/home/vit/Dropbox/vyzkum/cisco/data/vbmf_classification\""
   ]
  },
  {
   "cell_type": "code",
   "execution_count": 4,
   "metadata": {},
   "outputs": [
    {
     "data": {
      "text/plain": [
       "19-element Array{String,1}:\n",
       " \"BrownCreeper_basic_1_1.jld\"    \n",
       " \"CorelAfrican_basic_1_1.jld\"    \n",
       " \"CorelBeach_basic_1_1.jld\"      \n",
       " \"Fox_basic_1_1.jld\"             \n",
       " \"Musk1_basic_1_1.jld\"           \n",
       " \"Musk2_basic_1_1.jld\"           \n",
       " \"Mutagenesis1_basic_1_1.jld\"    \n",
       " \"Mutagenesis2_basic_1_1.jld\"    \n",
       " \"Newsgroups1_basic_1_1.jld\"     \n",
       " \"Newsgroups2_basic_1_1.jld\"     \n",
       " \"Newsgroups3_basic_1_1.jld\"     \n",
       " \"Protein_basic_1_1.jld\"         \n",
       " \"Tiger_basic_1_1.jld\"           \n",
       " \"UCSBBreastCancer_basic_1_1.jld\"\n",
       " \"Web1_basic_1_1.jld\"            \n",
       " \"Web2_basic_1_1.jld\"            \n",
       " \"Web3_basic_1_1.jld\"            \n",
       " \"Web4_basic_1_1.jld\"            \n",
       " \"WinterWren_basic_1_1.jld\"      "
      ]
     },
     "execution_count": 4,
     "metadata": {},
     "output_type": "execute_result"
    }
   ],
   "source": [
    "readdir(output_path)"
   ]
  }
 ],
 "metadata": {
  "kernelspec": {
   "display_name": "Julia 0.5.2",
   "language": "julia",
   "name": "julia-0.5"
  },
  "language_info": {
   "file_extension": ".jl",
   "mimetype": "application/julia",
   "name": "julia",
   "version": "0.5.2"
  }
 },
 "nbformat": 4,
 "nbformat_minor": 2
}
