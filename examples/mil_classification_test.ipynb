{
 "cells": [
  {
   "cell_type": "code",
   "execution_count": 1,
   "metadata": {
    "collapsed": true
   },
   "outputs": [],
   "source": [
    "using JLD\n",
    "using PyPlot\n",
    "using StatsBase\n",
    "using Distributions\n",
    "using VBMatrixFactorization"
   ]
  },
  {
   "cell_type": "code",
   "execution_count": 12,
   "metadata": {
    "scrolled": true
   },
   "outputs": [
    {
     "name": "stderr",
     "output_type": "stream",
     "text": [
      "WARNING: Method definition norm2(Array{Float64, 1}) in module Main at /home/vit/.julia/v0.5/VBMatrixFactorization/examples/../src/util.jl:8 overwritten at /home/vit/.julia/v0.5/VBMatrixFactorization/examples/../src/util.jl:8.\n",
      "\u001b[1m\u001b[31mWARNING: replacing docs for 'norm2 :: Tuple{Array{Float64,1}}' in module 'Main'.\u001b[0m\n",
      "WARNING: Method definition norm2(Array{Float64, 2}) in module Main at /home/vit/.julia/v0.5/VBMatrixFactorization/examples/../src/util.jl:17 overwritten at /home/vit/.julia/v0.5/VBMatrixFactorization/examples/../src/util.jl:17.\n",
      "\u001b[1m\u001b[31mWARNING: replacing docs for 'norm2 :: Tuple{Array{Float64,2}}' in module 'Main'.\u001b[0m\n",
      "WARNING: Method definition delta(Any, Any) in module Main at /home/vit/.julia/v0.5/VBMatrixFactorization/examples/../src/util.jl:27 overwritten at /home/vit/.julia/v0.5/VBMatrixFactorization/examples/../src/util.jl:27.\n",
      "\u001b[1m\u001b[31mWARNING: replacing docs for 'delta :: Tuple{Any,Any}' in module 'Main'.\u001b[0m\n",
      "WARNING: Method definition scaleY(Array{Float64, 2}) in module Main at /home/vit/.julia/v0.5/VBMatrixFactorization/examples/../src/util.jl:36 overwritten at /home/vit/.julia/v0.5/VBMatrixFactorization/examples/../src/util.jl:36.\n",
      "\u001b[1m\u001b[31mWARNING: replacing docs for 'scaleY :: Tuple{Array{Float64,2}}' in module 'Main'.\u001b[0m\n",
      "WARNING: Method definition traceXTY(Array{Float64, 2}, Array{Float64, 2}) in module Main at /home/vit/.julia/v0.5/VBMatrixFactorization/examples/../src/util.jl:60 overwritten at /home/vit/.julia/v0.5/VBMatrixFactorization/examples/../src/util.jl:60.\n",
      "\u001b[1m\u001b[31mWARNING: replacing docs for 'traceXTY :: Tuple{Array{Float64,2},Array{Float64,2}}' in module 'Main'.\u001b[0m\n",
      "WARNING: Method definition getBag(Base.Dict{String, Any}, String, Int64) in module Main at /home/vit/.julia/v0.5/VBMatrixFactorization/examples/mil_util.jl:11 overwritten at /home/vit/.julia/v0.5/VBMatrixFactorization/examples/mil_util.jl:11.\n",
      "\u001b[1m\u001b[31mWARNING: replacing docs for 'getBag :: Tuple{Dict{String,Any},String,Int64}' in module 'Main'.\u001b[0m\n",
      "WARNING: Method definition getY(Base.Dict{String, Any}, Int64) in module Main at /home/vit/.julia/v0.5/VBMatrixFactorization/examples/mil_util.jl:26 overwritten at /home/vit/.julia/v0.5/VBMatrixFactorization/examples/mil_util.jl:26.\n",
      "\u001b[1m\u001b[31mWARNING: replacing docs for 'getY :: Tuple{Dict{String,Any},Int64}' in module 'Main'.\u001b[0m\n",
      "WARNING: Method definition getLabel(Base.Dict{String, Any}, Int64) in module Main at /home/vit/.julia/v0.5/VBMatrixFactorization/examples/mil_util.jl:36 overwritten at /home/vit/.julia/v0.5/VBMatrixFactorization/examples/mil_util.jl:36.\n",
      "\u001b[1m\u001b[31mWARNING: replacing docs for 'getLabel :: Tuple{Dict{String,Any},Int64}' in module 'Main'.\u001b[0m\n",
      "WARNING: Method definition get_matrices(Base.Dict{String, Any}, Any) in module Main at /home/vit/.julia/v0.5/VBMatrixFactorization/examples/mil_util.jl:45 overwritten at /home/vit/.julia/v0.5/VBMatrixFactorization/examples/mil_util.jl:45.\n",
      "\u001b[1m\u001b[31mWARNING: replacing docs for 'get_matrices :: Tuple{Dict{String,Any},Any}' in module 'Main'.\u001b[0m\n",
      "WARNING: Method definition train(Base.Dict{String, Any}, Any, String, Int64, Int64) in module Main at /home/vit/.julia/v0.5/VBMatrixFactorization/examples/mil_util.jl:93 overwritten at /home/vit/.julia/v0.5/VBMatrixFactorization/examples/mil_util.jl:93.\n",
      "WARNING: Method definition #train(Array{Any, 1}, Main.#train, Base.Dict{String, Any}, Any, String, Int64, Int64) in module Main overwritten.\n",
      "\u001b[1m\u001b[31mWARNING: replacing docs for 'train :: Tuple{Dict{String,Any},Any,String,Int64,Int64}' in module 'Main'.\u001b[0m\n",
      "WARNING: Method definition ols(Array{Float64, 2}, Array{Float64, 2}) in module Main at /home/vit/.julia/v0.5/VBMatrixFactorization/examples/mil_util.jl:136 overwritten at /home/vit/.julia/v0.5/VBMatrixFactorization/examples/mil_util.jl:136.\n",
      "\u001b[1m\u001b[31mWARNING: replacing docs for 'ols :: Tuple{Array{Float64,2},Array{Float64,2}}' in module 'Main'.\u001b[0m\n",
      "WARNING: Method definition classify(Any, Any, Array{Float64, 2}) in module Main at /home/vit/.julia/v0.5/VBMatrixFactorization/examples/mil_util.jl:147 overwritten at /home/vit/.julia/v0.5/VBMatrixFactorization/examples/mil_util.jl:147.\n",
      "\u001b[1m\u001b[31mWARNING: replacing docs for 'classify :: Tuple{Any,Any,Array{Float64,2}}' in module 'Main'.\u001b[0m\n",
      "WARNING: Method definition test_one(Any, Any, Int64, Base.Dict{String, Any}) in module Main at /home/vit/.julia/v0.5/VBMatrixFactorization/examples/mil_util.jl:171 overwritten at /home/vit/.julia/v0.5/VBMatrixFactorization/examples/mil_util.jl:171.\n",
      "WARNING: Method definition #test_one(Array{Any, 1}, Main.#test_one, Any, Any, Int64, Base.Dict{String, Any}) in module Main overwritten.\n",
      "\u001b[1m\u001b[31mWARNING: replacing docs for 'test_one :: Tuple{Any,Any,Int64,Dict{String,Any}}' in module 'Main'.\u001b[0m\n",
      "WARNING: Method definition test_classification(Any, Any, Base.Dict{String, Any}, Any) in module Main at /home/vit/.julia/v0.5/VBMatrixFactorization/examples/mil_util.jl:190 overwritten at /home/vit/.julia/v0.5/VBMatrixFactorization/examples/mil_util.jl:190.\n",
      "WARNING: Method definition #test_classification(Array{Any, 1}, Main.#test_classification, Any, Any, Base.Dict{String, Any}, Any) in module Main overwritten.\n",
      "\u001b[1m\u001b[31mWARNING: replacing docs for 'test_classification :: Tuple{Any,Any,Dict{String,Any},Any}' in module 'Main'.\u001b[0m\n",
      "WARNING: Method definition validate(Float64, Base.Dict{String, Any}, Int64, String, Int64) in module Main at /home/vit/.julia/v0.5/VBMatrixFactorization/examples/mil_util.jl:227 overwritten at /home/vit/.julia/v0.5/VBMatrixFactorization/examples/mil_util.jl:227.\n",
      "WARNING: Method definition #validate(Array{Any, 1}, Main.#validate, Float64, Base.Dict{String, Any}, Int64, String, Int64) in module Main overwritten.\n",
      "\u001b[1m\u001b[31mWARNING: replacing docs for 'validate :: Tuple{Float64,Dict{String,Any},Int64,String,Int64}' in module 'Main'.\u001b[0m\n",
      "WARNING: Method definition validate_dataset(Base.Dict{String, Any}, Base.Dict{Any, Any}) in module Main at /home/vit/.julia/v0.5/VBMatrixFactorization/examples/mil_util.jl:262 overwritten at /home/vit/.julia/v0.5/VBMatrixFactorization/examples/mil_util.jl:262.\n",
      "WARNING: Method definition #validate_dataset(Array{Any, 1}, Main.#validate_dataset, Base.Dict{String, Any}, Base.Dict{Any, Any}) in module Main overwritten.\n",
      "\u001b[1m\u001b[31mWARNING: replacing docs for 'validate_dataset :: Tuple{Dict{String,Any},Dict{Any,Any}}' in module 'Main'.\u001b[0m\n",
      "WARNING: Method definition validate_datasets(Base.Dict{Any, Any}, Base.UnitRange{Int64}, String, String) in module Main at /home/vit/.julia/v0.5/VBMatrixFactorization/examples/mil_util.jl:299 overwritten at /home/vit/.julia/v0.5/VBMatrixFactorization/examples/mil_util.jl:299.\n",
      "WARNING: Method definition #validate_datasets(Array{Any, 1}, Main.#validate_datasets, Base.Dict{Any, Any}, Base.UnitRange{Int64}, String, String) in module Main overwritten.\n",
      "\u001b[1m\u001b[31mWARNING: replacing docs for 'validate_datasets :: Tuple{Dict{Any,Any},UnitRange{Int64},String,String}' in module 'Main'.\u001b[0m\n",
      "WARNING: Method definition warmup(String) in module Main at /home/vit/.julia/v0.5/VBMatrixFactorization/examples/mil_util.jl:347 overwritten at /home/vit/.julia/v0.5/VBMatrixFactorization/examples/mil_util.jl:347.\n",
      "\u001b[1m\u001b[31mWARNING: replacing docs for 'warmup :: Tuple{String}' in module 'Main'.\u001b[0m\n",
      "WARNING: Method definition table_summary(Base.Dict{String, Any}) in module Main at /home/vit/.julia/v0.5/VBMatrixFactorization/examples/mil_util.jl:373 overwritten at /home/vit/.julia/v0.5/VBMatrixFactorization/examples/mil_util.jl:373.\n",
      "WARNING: Method definition #table_summary(Array{Any, 1}, Main.#table_summary, Base.Dict{String, Any}) in module Main overwritten.\n",
      "\u001b[1m\u001b[31mWARNING: replacing docs for 'table_summary :: Tuple{Dict{String,Any}}' in module 'Main'.\u001b[0m\n",
      "WARNING: Method definition plot_statistics(Base.Dict{String, Any}) in module Main at /home/vit/.julia/v0.5/VBMatrixFactorization/examples/mil_util.jl:413 overwritten at /home/vit/.julia/v0.5/VBMatrixFactorization/examples/mil_util.jl:413.\n",
      "WARNING: Method definition #plot_statistics(Array{Any, 1}, Main.#plot_statistics, Base.Dict{String, Any}) in module Main overwritten.\n",
      "\u001b[1m\u001b[31mWARNING: replacing docs for 'plot_statistics :: Tuple{Dict{String,Any}}' in module 'Main'.\u001b[0m\n"
     ]
    }
   ],
   "source": [
    "# load the script with auxilliary functions\n",
    "include(\"mil_util.jl\");"
   ]
  },
  {
   "cell_type": "code",
   "execution_count": 11,
   "metadata": {},
   "outputs": [
    {
     "data": {
      "text/plain": [
       "20-element Array{String,1}:\n",
       " \"BrownCreeper.jld\"    \n",
       " \"CorelAfrican.jld\"    \n",
       " \"CorelBeach.jld\"      \n",
       " \"Elephant.jld\"        \n",
       " \"Fox.jld\"             \n",
       " \"Musk1.jld\"           \n",
       " \"Musk2.jld\"           \n",
       " \"Mutagenesis1.jld\"    \n",
       " \"Mutagenesis2.jld\"    \n",
       " \"Newsgroups1.jld\"     \n",
       " \"Newsgroups2.jld\"     \n",
       " \"Newsgroups3.jld\"     \n",
       " \"Protein.jld\"         \n",
       " \"Tiger.jld\"           \n",
       " \"UCSBBreastCancer.jld\"\n",
       " \"Web1.jld\"            \n",
       " \"Web2.jld\"            \n",
       " \"Web3.jld\"            \n",
       " \"Web4.jld\"            \n",
       " \"WinterWren.jld\"      "
      ]
     },
     "execution_count": 11,
     "metadata": {},
     "output_type": "execute_result"
    }
   ],
   "source": [
    "# list all available data\n",
    "# CHANGE THE FOLDER TO YOUR LOCAL FOLDER\n",
    "mil_path = \"/home/vit/Dropbox/vyzkum/cisco/data/milproblems\";\n",
    "readdir(mil_path)"
   ]
  },
  {
   "cell_type": "code",
   "execution_count": 13,
   "metadata": {
    "collapsed": true
   },
   "outputs": [],
   "source": [
    "# load a dataset\n",
    "dataset_name = \"BrownCreeper\"\n",
    "data = load(string(mil_path, \"/\", dataset_name, \".jld\"));"
   ]
  },
  {
   "cell_type": "code",
   "execution_count": 78,
   "metadata": {},
   "outputs": [
    {
     "name": "stdout",
     "output_type": "stream",
     "text": [
      "Extracted 123 negative and 41 positive bags.\n",
      "Factorization finished after 200 iterations, eps = 1.1442912429024088\n",
      "Factorization finished after 200 iterations, eps = 1.1249628082148653\n",
      "  3.687087 seconds (11.79 M allocations: 1.786 GB, 14.32% gc time)\n"
     ]
    },
    {
     "data": {
      "text/plain": [
       "(0.2786458333333333,0.26804993252361675,74,33,228,156)"
      ]
     },
     "execution_count": 78,
     "metadata": {},
     "output_type": "execute_result"
    }
   ],
   "source": [
    "@time mer, eer, fp, fn, n0, n1 = validate(0.3, data, 200, \"sparse\", 2, eps = 1e-3, scale_y = true)"
   ]
  },
  {
   "cell_type": "code",
   "execution_count": 81,
   "metadata": {},
   "outputs": [
    {
     "data": {
      "text/plain": [
       "\"BrownCreeper\""
      ]
     },
     "execution_count": 81,
     "metadata": {},
     "output_type": "execute_result"
    }
   ],
   "source": [
    "inputs = Dict()\n",
    "inputs[\"p_vec\"] =  [0.01]\n",
    "inputs[\"nclass_iter\"] = 10\n",
    "inputs[\"niter\"] = 200\n",
    "inputs[\"eps\"] = 1e-3\n",
    "inputs[\"solver\"] = \"basic\"\n",
    "inputs[\"H\"] = 1\n",
    "inputs[\"scale_y\"] = true\n",
    "inputs[\"dataset_name\"] = dataset_name"
   ]
  },
  {
   "cell_type": "code",
   "execution_count": 83,
   "metadata": {
    "scrolled": true
   },
   "outputs": [
    {
     "name": "stdout",
     "output_type": "stream",
     "text": [
      "p = 0.01\n",
      "n = 1\n",
      "Extracted 1 negative and 4 positive bags.\n",
      "Factorization finished after 15 iterations, eps = 0.0006142311236804268\n",
      "Factorization finished after 33 iterations, eps = 0.0008921507365281547\n",
      "n = 2\n",
      "Extracted 3 negative and 2 positive bags.\n",
      "Factorization finished after 7 iterations, eps = 0.0006682471443614969\n",
      "Factorization finished after 29 iterations, eps = 0.0009547282557933324\n",
      "n = 3\n",
      "n = 4\n",
      "Extracted 3 negative and 2 positive bags.\n",
      "Factorization finished after 7 iterations, eps = 0.0005240072709072365\n",
      "Factorization finished after 10 iterations, eps = 0.000811888171857013\n"
     ]
    },
    {
     "name": "stderr",
     "output_type": "stream",
     "text": [
      "\u001b[1m\u001b[31mWARNING: One of the input matrices is empty, ending.\u001b[0m\n"
     ]
    },
    {
     "name": "stdout",
     "output_type": "stream",
     "text": [
      "n = 5\n",
      "Extracted 3 negative and 2 positive bags.\n",
      "Factorization finished after 6 iterations, eps = 0.0004706167307214116\n",
      "Factorization finished after 14 iterations, eps = 0.0006261701411991878\n",
      "n = 6\n",
      "Extracted 4 negative and 1 positive bags.\n",
      "Factorization finished after 6 iterations, eps = 0.00034597448105610053\n",
      "Factorization finished after 56 iterations, eps = 0.0009689004729153521\n",
      "n = 7\n",
      "Extracted 3 negative and 2 positive bags.\n",
      "Factorization finished after 6 iterations, eps = 0.0007611958734774195\n",
      "Factorization finished after 14 iterations, eps = 0.0008183279432778816\n",
      "n = 8\n",
      "Extracted 3 negative and 2 positive bags.\n",
      "Factorization finished after 8 iterations, eps = 0.0009710091179917549\n",
      "Factorization finished after 12 iterations, eps = 0.0009617004755944889\n",
      "n = 9\n",
      "Extracted 4 negative and 1 positive bags.\n",
      "Factorization finished after 11 iterations, eps = 0.0006897770879836985\n",
      "Factorization finished after 19 iterations, eps = 0.0008687079242295716\n",
      "n = 10\n",
      "Extracted 4 negative and 1 positive bags.\n",
      "Factorization finished after 9 iterations, eps = 0.0004954716392904646\n",
      "Factorization finished after 9 iterations, eps = 0.0005054585395580056\n"
     ]
    },
    {
     "data": {
      "text/plain": [
       "10×7 Array{Float64,2}:\n",
       " 0.01   0.349908   0.33883   132.0   58.0  350.0  193.0\n",
       " 0.01   0.300184   0.260124  140.0   23.0  348.0  195.0\n",
       " 0.01  -1.0       -1.0        -1.0   -1.0   -1.0   -1.0\n",
       " 0.01   0.320442   0.27931   148.0   26.0  348.0  195.0\n",
       " 0.01   0.342541   0.334881  126.0   60.0  348.0  195.0\n",
       " 0.01   0.3407     0.324296  133.0   52.0  347.0  196.0\n",
       " 0.01   0.335175   0.286295  160.0   22.0  348.0  195.0\n",
       " 0.01   0.478821   0.55168   102.0  158.0  348.0  195.0\n",
       " 0.01   0.388582   0.441687   87.0  124.0  347.0  196.0\n",
       " 0.01   0.296501   0.261961  134.0   27.0  347.0  196.0"
      ]
     },
     "execution_count": 83,
     "metadata": {},
     "output_type": "execute_result"
    }
   ],
   "source": [
    "res_mat = validate_dataset(data, inputs)"
   ]
  },
  {
   "cell_type": "code",
   "execution_count": 208,
   "metadata": {
    "collapsed": true
   },
   "outputs": [],
   "source": [
    "# save the outputs and inputs\n",
    "output_path = \"/home/vit/Dropbox/vyzkum/cisco/data/vbmf_classification\"\n",
    "fname = string(dataset_name, \"_\", inputs[\"solver\"], \"_\", inputs[\"H\"], \"_\", inputs[\"nclass_iter\"])\n",
    "save(\"$output_path/$fname.jld\", \"res_mat\", res_mat, \"inputs\", inputs)"
   ]
  },
  {
   "cell_type": "code",
   "execution_count": 209,
   "metadata": {},
   "outputs": [
    {
     "data": {
      "text/plain": [
       "Dict{String,Any} with 2 entries:\n",
       "  \"res_mat\" => [0.01 0.311234 … 347.0 196.0; 0.02 0.453532 … 345.0 193.0; … ; 0…\n",
       "  \"inputs\"  => Dict{Any,Any}(Pair{Any,Any}(\"niter\",200),Pair{Any,Any}(\"eps\",0.0…"
      ]
     },
     "execution_count": 209,
     "metadata": {},
     "output_type": "execute_result"
    }
   ],
   "source": [
    "# test their loading\n",
    "output = load(\"$output_path/$fname.jld\")"
   ]
  },
  {
   "cell_type": "code",
   "execution_count": 93,
   "metadata": {},
   "outputs": [
    {
     "name": "stdout",
     "output_type": "stream",
     "text": [
      "H = 1\n",
      "p = 0.01\n",
      "n = 1\n",
      "n = 2\n"
     ]
    },
    {
     "name": "stderr",
     "output_type": "stream",
     "text": [
      "\u001b[1m\u001b[31mWARNING: One of the input matrices is empty, ending.\u001b[0m\n"
     ]
    },
    {
     "name": "stdout",
     "output_type": "stream",
     "text": [
      "n = 3\n",
      "n = 4\n",
      "n = 5\n",
      "n = 6\n",
      "n = 7\n",
      "n = 8\n",
      "n = 9\n",
      "n = 10\n"
     ]
    },
    {
     "name": "stderr",
     "output_type": "stream",
     "text": [
      "\u001b[1m\u001b[31mWARNING: One of the input matrices is empty, ending.\u001b[0m\n"
     ]
    },
    {
     "name": "stdout",
     "output_type": "stream",
     "text": [
      "n = 11\n",
      "n = 12\n",
      "n = 13\n",
      "n = 14\n",
      "n = 15\n"
     ]
    },
    {
     "name": "stderr",
     "output_type": "stream",
     "text": [
      "\u001b[1m\u001b[31mWARNING: One of the input matrices is empty, ending.\u001b[0m\n"
     ]
    },
    {
     "name": "stdout",
     "output_type": "stream",
     "text": [
      "n = 16\n",
      "n = 17\n",
      "n = 18\n",
      "n = 19\n",
      "n = 20\n"
     ]
    },
    {
     "name": "stderr",
     "output_type": "stream",
     "text": [
      "\u001b[1m\u001b[31mWARNING: One of the input matrices is empty, ending.\u001b[0m\n"
     ]
    },
    {
     "name": "stdout",
     "output_type": "stream",
     "text": [
      "n = 21\n",
      "n = 22\n",
      "n = 23\n",
      "n = 24\n",
      "n = 25\n",
      "n = 26\n",
      "n = 27\n",
      "n = 28\n"
     ]
    },
    {
     "name": "stderr",
     "output_type": "stream",
     "text": [
      "\u001b[1m\u001b[31mWARNING: One of the input matrices is empty, ending.\u001b[0m\n"
     ]
    },
    {
     "name": "stdout",
     "output_type": "stream",
     "text": [
      "n = 29\n",
      "n = 30\n",
      "n = 31\n",
      "n = 32\n",
      "n = 33\n",
      "n = 34\n",
      "n = 35\n",
      "n = 36\n",
      "n = 37\n"
     ]
    },
    {
     "name": "stderr",
     "output_type": "stream",
     "text": [
      "\u001b[1m\u001b[31mWARNING: One of the input matrices is empty, ending.\u001b[0m\n"
     ]
    },
    {
     "name": "stdout",
     "output_type": "stream",
     "text": [
      "n = 38\n",
      "n = 39\n",
      "n = 40\n",
      "n = 41\n"
     ]
    },
    {
     "name": "stderr",
     "output_type": "stream",
     "text": [
      "\u001b[1m\u001b[31mWARNING: One of the input matrices is empty, ending.\u001b[0m\n"
     ]
    },
    {
     "name": "stdout",
     "output_type": "stream",
     "text": [
      "n = 42\n",
      "n = 43\n"
     ]
    },
    {
     "name": "stderr",
     "output_type": "stream",
     "text": [
      "\u001b[1m\u001b[31mWARNING: One of the input matrices is empty, ending.\u001b[0m\n"
     ]
    },
    {
     "name": "stdout",
     "output_type": "stream",
     "text": [
      "n = 44\n",
      "n = 45\n",
      "n = 46\n"
     ]
    },
    {
     "name": "stderr",
     "output_type": "stream",
     "text": [
      "\u001b[1m\u001b[31mWARNING: One of the input matrices is empty, ending.\u001b[0m\n"
     ]
    },
    {
     "name": "stdout",
     "output_type": "stream",
     "text": [
      "n = 47\n",
      "n = 48\n",
      "n = 49\n",
      "n = 50\n",
      "H = 2\n",
      "p = 0.01\n",
      "n = 1\n",
      "n = 2\n",
      "n = 3\n",
      "n = 4\n",
      "n = 5\n",
      "n = 6\n",
      "n = 7\n"
     ]
    },
    {
     "name": "stderr",
     "output_type": "stream",
     "text": [
      "\u001b[1m\u001b[31mWARNING: One of the input matrices is empty, ending.\u001b[0m\n"
     ]
    },
    {
     "name": "stdout",
     "output_type": "stream",
     "text": [
      "n = 8\n",
      "n = 9\n",
      "n = 10\n",
      "n = 11\n",
      "n = 12\n",
      "n = 13\n",
      "n = 14\n"
     ]
    },
    {
     "name": "stderr",
     "output_type": "stream",
     "text": [
      "\u001b[1m\u001b[31mWARNING: One of the input matrices is empty, ending.\u001b[0m\n"
     ]
    },
    {
     "name": "stdout",
     "output_type": "stream",
     "text": [
      "n = 15\n",
      "n = 16\n",
      "n = 17\n"
     ]
    },
    {
     "name": "stderr",
     "output_type": "stream",
     "text": [
      "\u001b[1m\u001b[31mWARNING: One of the input matrices is empty, ending.\u001b[0m\n"
     ]
    },
    {
     "name": "stdout",
     "output_type": "stream",
     "text": [
      "n = 18\n",
      "n = 19\n",
      "n = 20\n",
      "n = 21\n",
      "n = 22\n",
      "n = 23\n",
      "n = 24\n",
      "n = 25\n",
      "n = 26\n",
      "n = 27\n",
      "n = 28\n",
      "n = 29\n",
      "n = 30\n",
      "n = 31\n",
      "n = 32\n",
      "n = 33\n"
     ]
    },
    {
     "name": "stderr",
     "output_type": "stream",
     "text": [
      "\u001b[1m\u001b[31mWARNING: One of the input matrices is empty, ending.\u001b[0m\n"
     ]
    },
    {
     "name": "stdout",
     "output_type": "stream",
     "text": [
      "n = 34\n",
      "n = 35\n",
      "n = 36\n",
      "n = 37\n",
      "n = 38\n",
      "n = 39\n",
      "n = 40\n",
      "n = 41\n",
      "n = 42\n",
      "n = 43\n",
      "n = 44\n",
      "n = 45\n",
      "n = 46\n",
      "n = 47\n"
     ]
    },
    {
     "name": "stderr",
     "output_type": "stream",
     "text": [
      "\u001b[1m\u001b[31mWARNING: One of the input matrices is empty, ending.\u001b[0m\n",
      "\u001b[1m\u001b[31mWARNING: One of the input matrices is empty, ending.\u001b[0m\n"
     ]
    },
    {
     "name": "stdout",
     "output_type": "stream",
     "text": [
      "n = 48\n",
      "n = 49\n",
      "n = 50\n",
      "H = 3\n",
      "p = 0.01\n",
      "n = 1\n",
      "n = 2\n",
      "n = 3\n",
      "n = 4\n"
     ]
    },
    {
     "name": "stderr",
     "output_type": "stream",
     "text": [
      "\u001b[1m\u001b[31mWARNING: One of the input matrices is empty, ending.\u001b[0m\n"
     ]
    },
    {
     "name": "stdout",
     "output_type": "stream",
     "text": [
      "n = 5\n",
      "n = 6\n",
      "n = 7\n",
      "n = 8\n",
      "n = 9\n",
      "n = 10\n",
      "n = 11\n",
      "n = 12\n",
      "n = 13\n",
      "n = 14\n",
      "n = 15\n"
     ]
    },
    {
     "name": "stderr",
     "output_type": "stream",
     "text": [
      "\u001b[1m\u001b[31mWARNING: One of the input matrices is empty, ending.\u001b[0m\n"
     ]
    },
    {
     "name": "stdout",
     "output_type": "stream",
     "text": [
      "n = 16\n",
      "n = 17\n",
      "n = 18\n",
      "n = 19\n",
      "n = 20\n"
     ]
    },
    {
     "name": "stderr",
     "output_type": "stream",
     "text": [
      "\u001b[1m\u001b[31mWARNING: One of the input matrices is empty, ending.\u001b[0m\n"
     ]
    },
    {
     "name": "stdout",
     "output_type": "stream",
     "text": [
      "n = 21\n",
      "n = 22\n",
      "n = 23\n",
      "n = 24\n",
      "n = 25\n",
      "n = 26\n",
      "n = 27\n",
      "n = 28\n",
      "n = 29\n",
      "n = 30\n",
      "n = 31\n",
      "n = 32\n"
     ]
    },
    {
     "name": "stderr",
     "output_type": "stream",
     "text": [
      "\u001b[1m\u001b[31mWARNING: One of the input matrices is empty, ending.\u001b[0m\n"
     ]
    },
    {
     "name": "stdout",
     "output_type": "stream",
     "text": [
      "n = 33\n",
      "n = 34\n",
      "n = 35\n",
      "n = 36\n",
      "n = 37\n",
      "n = 38\n",
      "n = 39\n",
      "n = 40\n",
      "n = 41\n",
      "n = 42\n",
      "n = 43\n",
      "n = 44\n",
      "n = 45\n",
      "n = 46\n",
      "n = 47\n",
      "n = 48\n",
      "n = 49\n",
      "n = 50\n",
      "H = 5\n",
      "p = 0.01\n",
      "n = 1\n",
      "n = 2\n",
      "n = 3\n",
      "n = 4\n",
      "n = 5\n",
      "n = 6\n",
      "n = 7\n",
      "n = 8\n",
      "n = 9\n",
      "n = 10\n",
      "n = 11\n",
      "n = 12\n"
     ]
    },
    {
     "name": "stderr",
     "output_type": "stream",
     "text": [
      "\u001b[1m\u001b[31mWARNING: Something went wrong during vbmf, no output produced.\u001b[0m\n"
     ]
    },
    {
     "name": "stdout",
     "output_type": "stream",
     "text": [
      "Base.LinAlg.SingularException(5)\n",
      "n = 13\n",
      "n = 14\n",
      "Base.LinAlg.SingularException(5)\n",
      "n = 15\n",
      "n = 16"
     ]
    },
    {
     "name": "stderr",
     "output_type": "stream",
     "text": [
      "\u001b[1m\u001b[31mWARNING: Something went wrong during vbmf, no output produced.\u001b[0m\n"
     ]
    },
    {
     "name": "stdout",
     "output_type": "stream",
     "text": [
      "\n",
      "n = 17\n",
      "n = 18\n",
      "n = 19\n"
     ]
    },
    {
     "name": "stderr",
     "output_type": "stream",
     "text": [
      "\u001b[1m\u001b[31mWARNING: One of the input matrices is empty, ending.\u001b[0m\n"
     ]
    },
    {
     "name": "stdout",
     "output_type": "stream",
     "text": [
      "n = 20\n",
      "n = 21\n",
      "n = 22\n",
      "n = 23\n",
      "n = 24\n",
      "n = 25\n",
      "n = 26\n",
      "n = 27\n",
      "n = 28\n",
      "n = 29\n",
      "n = 30\n",
      "n = 31\n"
     ]
    },
    {
     "name": "stderr",
     "output_type": "stream",
     "text": [
      "\u001b[1m\u001b[31mWARNING: One of the input matrices is empty, ending.\u001b[0m\n"
     ]
    },
    {
     "name": "stdout",
     "output_type": "stream",
     "text": [
      "n = 32\n",
      "n = 33\n",
      "n = 34\n",
      "n = 35\n",
      "Base.LinAlg.SingularException(5)\n",
      "n = 36\n",
      "n = 37"
     ]
    },
    {
     "name": "stderr",
     "output_type": "stream",
     "text": [
      "\u001b[1m\u001b[31mWARNING: Something went wrong during vbmf, no output produced.\u001b[0m\n"
     ]
    },
    {
     "name": "stdout",
     "output_type": "stream",
     "text": [
      "\n",
      "n = 38\n",
      "n = 39\n",
      "n = 40\n",
      "n = 41\n",
      "n = 42\n",
      "n = 43\n",
      "n = 44\n",
      "Base.LinAlg.SingularException(4)\n",
      "n = 45\n",
      "n = 46"
     ]
    },
    {
     "name": "stderr",
     "output_type": "stream",
     "text": [
      "\u001b[1m\u001b[31mWARNING: Something went wrong during vbmf, no output produced.\u001b[0m\n"
     ]
    },
    {
     "name": "stdout",
     "output_type": "stream",
     "text": [
      "\n",
      "n = 47\n",
      "Base.LinAlg.SingularException(5)\n",
      "n = 48\n",
      "n = 49"
     ]
    },
    {
     "name": "stderr",
     "output_type": "stream",
     "text": [
      "\u001b[1m\u001b[31mWARNING: Something went wrong during vbmf, no output produced.\u001b[0m\n"
     ]
    },
    {
     "name": "stdout",
     "output_type": "stream",
     "text": [
      "\n",
      "n = 50\n",
      "H = 7\n",
      "p = 0.01\n",
      "n = 1\n",
      "Base.LinAlg.SingularException(5)\n",
      "n = 2\n",
      "n = 3"
     ]
    },
    {
     "name": "stderr",
     "output_type": "stream",
     "text": [
      "\u001b[1m\u001b[31mWARNING: Something went wrong during vbmf, no output produced.\u001b[0m\n"
     ]
    },
    {
     "name": "stdout",
     "output_type": "stream",
     "text": [
      "\n",
      "n = 4\n",
      "Base.LinAlg.SingularException(7)\n",
      "n = 5\n"
     ]
    },
    {
     "name": "stderr",
     "output_type": "stream",
     "text": [
      "\u001b[1m\u001b[31mWARNING: Something went wrong during vbmf, no output produced.\u001b[0m\n"
     ]
    },
    {
     "name": "stdout",
     "output_type": "stream",
     "text": [
      "Base.LinAlg.SingularException(7)\n",
      "n = 6\n",
      "n = 7\n"
     ]
    },
    {
     "name": "stderr",
     "output_type": "stream",
     "text": [
      "\u001b[1m\u001b[31mWARNING: Something went wrong during vbmf, no output produced.\u001b[0m\n",
      "\u001b[1m\u001b[31mWARNING: One of the input matrices is empty, ending.\u001b[0m\n"
     ]
    },
    {
     "name": "stdout",
     "output_type": "stream",
     "text": [
      "n = 8\n",
      "n = 9\n",
      "n = 10\n",
      "n = 11\n",
      "n = 12\n",
      "Base.LinAlg.SingularException(5)\n",
      "n = 13\n",
      "n = 14"
     ]
    },
    {
     "name": "stderr",
     "output_type": "stream",
     "text": [
      "\u001b[1m\u001b[31mWARNING: Something went wrong during vbmf, no output produced.\u001b[0m\n"
     ]
    },
    {
     "name": "stdout",
     "output_type": "stream",
     "text": [
      "\n",
      "Base.LinAlg.SingularException(7)\n",
      "n = 15\n"
     ]
    },
    {
     "name": "stderr",
     "output_type": "stream",
     "text": [
      "\u001b[1m\u001b[31mWARNING: Something went wrong during vbmf, no output produced.\u001b[0m\n"
     ]
    },
    {
     "name": "stdout",
     "output_type": "stream",
     "text": [
      "Base.LinAlg.SingularException(3)\n",
      "n = 16\n"
     ]
    },
    {
     "name": "stderr",
     "output_type": "stream",
     "text": [
      "\u001b[1m\u001b[31mWARNING: Something went wrong during vbmf, no output produced.\u001b[0m\n"
     ]
    },
    {
     "name": "stdout",
     "output_type": "stream",
     "text": [
      "Base.LinAlg.SingularException(6)\n",
      "n = 17\n"
     ]
    },
    {
     "name": "stderr",
     "output_type": "stream",
     "text": [
      "\u001b[1m\u001b[31mWARNING: Something went wrong during vbmf, no output produced.\u001b[0m\n"
     ]
    },
    {
     "name": "stdout",
     "output_type": "stream",
     "text": [
      "Base.LinAlg.SingularException(6)\n",
      "n = 18\n"
     ]
    },
    {
     "name": "stderr",
     "output_type": "stream",
     "text": [
      "\u001b[1m\u001b[31mWARNING: Something went wrong during vbmf, no output produced.\u001b[0m\n"
     ]
    },
    {
     "name": "stdout",
     "output_type": "stream",
     "text": [
      "Base.LinAlg.SingularException(5)\n",
      "n = 19\n",
      "n = 20"
     ]
    },
    {
     "name": "stderr",
     "output_type": "stream",
     "text": [
      "\u001b[1m\u001b[31mWARNING: Something went wrong during vbmf, no output produced.\u001b[0m\n"
     ]
    },
    {
     "name": "stdout",
     "output_type": "stream",
     "text": [
      "\n",
      "n = 21\n"
     ]
    },
    {
     "name": "stderr",
     "output_type": "stream",
     "text": [
      "\u001b[1m\u001b[31mWARNING: One of the input matrices is empty, ending.\u001b[0m\n"
     ]
    },
    {
     "name": "stdout",
     "output_type": "stream",
     "text": [
      "Base.LinAlg.SingularException(7)\n",
      "n = 22\n"
     ]
    },
    {
     "name": "stderr",
     "output_type": "stream",
     "text": [
      "\u001b[1m\u001b[31mWARNING: Something went wrong during vbmf, no output produced.\u001b[0m\n"
     ]
    },
    {
     "name": "stdout",
     "output_type": "stream",
     "text": [
      "Base.LinAlg.SingularException(5)\n",
      "n = 23\n",
      "n = 24"
     ]
    },
    {
     "name": "stderr",
     "output_type": "stream",
     "text": [
      "\u001b[1m\u001b[31mWARNING: Something went wrong during vbmf, no output produced.\u001b[0m\n"
     ]
    },
    {
     "name": "stdout",
     "output_type": "stream",
     "text": [
      "\n",
      "Base.LinAlg.SingularException(7)\n",
      "n = 25\n",
      "n = 26"
     ]
    },
    {
     "name": "stderr",
     "output_type": "stream",
     "text": [
      "\u001b[1m\u001b[31mWARNING: Something went wrong during vbmf, no output produced.\u001b[0m\n"
     ]
    },
    {
     "name": "stdout",
     "output_type": "stream",
     "text": [
      "\n",
      "n = 27\n",
      "n = 28\n",
      "Base.LinAlg.SingularException(6)\n",
      "n = 29\n",
      "n = 30"
     ]
    },
    {
     "name": "stderr",
     "output_type": "stream",
     "text": [
      "\u001b[1m\u001b[31mWARNING: Something went wrong during vbmf, no output produced.\u001b[0m\n"
     ]
    },
    {
     "name": "stdout",
     "output_type": "stream",
     "text": [
      "\n",
      "n = 31\n",
      "n = 32\n",
      "n = 33\n"
     ]
    },
    {
     "name": "stderr",
     "output_type": "stream",
     "text": [
      "\u001b[1m\u001b[31mWARNING: One of the input matrices is empty, ending.\u001b[0m\n"
     ]
    },
    {
     "name": "stdout",
     "output_type": "stream",
     "text": [
      "n = 34\n",
      "n = 35\n",
      "n = 36\n",
      "n = 37\n",
      "n = 38\n",
      "Base.LinAlg.SingularException(7)\n",
      "n = 39\n",
      "n = 40"
     ]
    },
    {
     "name": "stderr",
     "output_type": "stream",
     "text": [
      "\u001b[1m\u001b[31mWARNING: Something went wrong during vbmf, no output produced.\u001b[0m\n"
     ]
    },
    {
     "name": "stdout",
     "output_type": "stream",
     "text": [
      "\n",
      "Base.LinAlg.SingularException(4)\n",
      "n = 41\n",
      "n = 42"
     ]
    },
    {
     "name": "stderr",
     "output_type": "stream",
     "text": [
      "\u001b[1m\u001b[31mWARNING: Something went wrong during vbmf, no output produced.\u001b[0m\n"
     ]
    },
    {
     "name": "stdout",
     "output_type": "stream",
     "text": [
      "\n",
      "n = 43\n",
      "n = 44\n",
      "n = 45\n",
      "Base.LinAlg.SingularException(7)\n",
      "n = 46\n"
     ]
    },
    {
     "name": "stderr",
     "output_type": "stream",
     "text": [
      "\u001b[1m\u001b[31mWARNING: Something went wrong during vbmf, no output produced.\u001b[0m\n"
     ]
    },
    {
     "name": "stdout",
     "output_type": "stream",
     "text": [
      "Base.LinAlg.SingularException(6)\n",
      "n = 47\n",
      "n = 48"
     ]
    },
    {
     "name": "stderr",
     "output_type": "stream",
     "text": [
      "\u001b[1m\u001b[31mWARNING: Something went wrong during vbmf, no output produced.\u001b[0m\n"
     ]
    },
    {
     "name": "stdout",
     "output_type": "stream",
     "text": [
      "\n",
      "Base.LinAlg.SingularException(7)\n",
      "n = 49\n"
     ]
    },
    {
     "name": "stderr",
     "output_type": "stream",
     "text": [
      "\u001b[1m\u001b[31mWARNING: Something went wrong during vbmf, no output produced.\u001b[0m\n"
     ]
    },
    {
     "name": "stdout",
     "output_type": "stream",
     "text": [
      "Base.LinAlg.SingularException(4)\n",
      "n = 50\n",
      "H = 10"
     ]
    },
    {
     "name": "stderr",
     "output_type": "stream",
     "text": [
      "\u001b[1m\u001b[31mWARNING: Something went wrong during vbmf, no output produced.\u001b[0m\n"
     ]
    },
    {
     "name": "stdout",
     "output_type": "stream",
     "text": [
      "\n",
      "p = 0.01\n",
      "n = 1\n",
      "Base.LinAlg.SingularException(7)\n",
      "n = 2\n"
     ]
    },
    {
     "name": "stderr",
     "output_type": "stream",
     "text": [
      "\u001b[1m\u001b[31mWARNING: Something went wrong during vbmf, no output produced.\u001b[0m\n"
     ]
    },
    {
     "name": "stdout",
     "output_type": "stream",
     "text": [
      "Base.LinAlg.SingularException(7)\n",
      "n = 3\n",
      "n = 4"
     ]
    },
    {
     "name": "stderr",
     "output_type": "stream",
     "text": [
      "\u001b[1m\u001b[31mWARNING: Something went wrong during vbmf, no output produced.\u001b[0m\n"
     ]
    },
    {
     "name": "stdout",
     "output_type": "stream",
     "text": [
      "\n",
      "n = 5\n"
     ]
    },
    {
     "name": "stderr",
     "output_type": "stream",
     "text": [
      "\u001b[1m\u001b[31mWARNING: One of the input matrices is empty, ending.\u001b[0m\n"
     ]
    },
    {
     "name": "stdout",
     "output_type": "stream",
     "text": [
      "Base.LinAlg.SingularException(8)\n",
      "n = 6\n"
     ]
    },
    {
     "name": "stderr",
     "output_type": "stream",
     "text": [
      "\u001b[1m\u001b[31mWARNING: Something went wrong during vbmf, no output produced.\u001b[0m\n"
     ]
    },
    {
     "name": "stdout",
     "output_type": "stream",
     "text": [
      "Base.LinAlg.SingularException(9)\n",
      "n = 7\n",
      "n = 8"
     ]
    },
    {
     "name": "stderr",
     "output_type": "stream",
     "text": [
      "\u001b[1m\u001b[31mWARNING: Something went wrong during vbmf, no output produced.\u001b[0m\n"
     ]
    },
    {
     "name": "stdout",
     "output_type": "stream",
     "text": [
      "\n",
      "Base.LinAlg.SingularException(10)\n",
      "n = 9\n"
     ]
    },
    {
     "name": "stderr",
     "output_type": "stream",
     "text": [
      "\u001b[1m\u001b[31mWARNING: Something went wrong during vbmf, no output produced.\u001b[0m\n"
     ]
    },
    {
     "name": "stdout",
     "output_type": "stream",
     "text": [
      "Base.LinAlg.SingularException(8)\n",
      "n = 10\n",
      "n = 11"
     ]
    },
    {
     "name": "stderr",
     "output_type": "stream",
     "text": [
      "\u001b[1m\u001b[31mWARNING: Something went wrong during vbmf, no output produced.\u001b[0m\n"
     ]
    },
    {
     "name": "stdout",
     "output_type": "stream",
     "text": [
      "\n",
      "n = 12\n"
     ]
    },
    {
     "name": "stderr",
     "output_type": "stream",
     "text": [
      "\u001b[1m\u001b[31mWARNING: One of the input matrices is empty, ending.\u001b[0m\n"
     ]
    },
    {
     "name": "stdout",
     "output_type": "stream",
     "text": [
      "Base.LinAlg.SingularException(7)\n",
      "n = 13\n",
      "n = 14\n"
     ]
    },
    {
     "name": "stderr",
     "output_type": "stream",
     "text": [
      "\u001b[1m\u001b[31mWARNING: Something went wrong during vbmf, no output produced.\u001b[0m\n",
      "\u001b[1m\u001b[31mWARNING: One of the input matrices is empty, ending.\u001b[0m\n"
     ]
    },
    {
     "name": "stdout",
     "output_type": "stream",
     "text": [
      "Base.LinAlg.SingularException(8)\n",
      "n = 15\n"
     ]
    },
    {
     "name": "stderr",
     "output_type": "stream",
     "text": [
      "\u001b[1m\u001b[31mWARNING: Something went wrong during vbmf, no output produced.\u001b[0m\n"
     ]
    },
    {
     "name": "stdout",
     "output_type": "stream",
     "text": [
      "Base.LinAlg.SingularException(9)\n",
      "n = 16\n"
     ]
    },
    {
     "name": "stderr",
     "output_type": "stream",
     "text": [
      "\u001b[1m\u001b[31mWARNING: Something went wrong during vbmf, no output produced.\u001b[0m\n"
     ]
    },
    {
     "name": "stdout",
     "output_type": "stream",
     "text": [
      "Base.LinAlg.SingularException(10)\n",
      "n = 17\n",
      "n = 18"
     ]
    },
    {
     "name": "stderr",
     "output_type": "stream",
     "text": [
      "\u001b[1m\u001b[31mWARNING: Something went wrong during vbmf, no output produced.\u001b[0m\n"
     ]
    },
    {
     "name": "stdout",
     "output_type": "stream",
     "text": [
      "\n",
      "Base.LinAlg.SingularException(7)\n",
      "n = 19\n",
      "n = 20\n"
     ]
    },
    {
     "name": "stderr",
     "output_type": "stream",
     "text": [
      "\u001b[1m\u001b[31mWARNING: Something went wrong during vbmf, no output produced.\u001b[0m\n",
      "\u001b[1m\u001b[31mWARNING: One of the input matrices is empty, ending.\u001b[0m\n"
     ]
    },
    {
     "name": "stdout",
     "output_type": "stream",
     "text": [
      "Base.LinAlg.SingularException(5)\n",
      "n = 21\n"
     ]
    },
    {
     "name": "stderr",
     "output_type": "stream",
     "text": [
      "\u001b[1m\u001b[31mWARNING: Something went wrong during vbmf, no output produced.\u001b[0m\n"
     ]
    },
    {
     "name": "stdout",
     "output_type": "stream",
     "text": [
      "Base.LinAlg.SingularException(4)\n",
      "n = 22\n"
     ]
    },
    {
     "name": "stderr",
     "output_type": "stream",
     "text": [
      "\u001b[1m\u001b[31mWARNING: Something went wrong during vbmf, no output produced.\u001b[0m\n"
     ]
    },
    {
     "name": "stdout",
     "output_type": "stream",
     "text": [
      "Base.LinAlg.SingularException(8)\n",
      "n = 23\n"
     ]
    },
    {
     "name": "stderr",
     "output_type": "stream",
     "text": [
      "\u001b[1m\u001b[31mWARNING: Something went wrong during vbmf, no output produced.\u001b[0m\n"
     ]
    },
    {
     "name": "stdout",
     "output_type": "stream",
     "text": [
      "Base.LinAlg.SingularException(5)\n",
      "n = 24\n"
     ]
    },
    {
     "name": "stderr",
     "output_type": "stream",
     "text": [
      "\u001b[1m\u001b[31mWARNING: Something went wrong during vbmf, no output produced.\u001b[0m\n"
     ]
    },
    {
     "name": "stdout",
     "output_type": "stream",
     "text": [
      "Base.LinAlg.SingularException(6)\n",
      "n = 25\n",
      "n = 26"
     ]
    },
    {
     "name": "stderr",
     "output_type": "stream",
     "text": [
      "\u001b[1m\u001b[31mWARNING: Something went wrong during vbmf, no output produced.\u001b[0m\n"
     ]
    },
    {
     "name": "stdout",
     "output_type": "stream",
     "text": [
      "\n",
      "Base.LinAlg.SingularException(8)\n",
      "n = 27\n"
     ]
    },
    {
     "name": "stderr",
     "output_type": "stream",
     "text": [
      "\u001b[1m\u001b[31mWARNING: Something went wrong during vbmf, no output produced.\u001b[0m\n"
     ]
    },
    {
     "name": "stdout",
     "output_type": "stream",
     "text": [
      "Base.LinAlg.SingularException(7)\n",
      "n = 28\n"
     ]
    },
    {
     "name": "stderr",
     "output_type": "stream",
     "text": [
      "\u001b[1m\u001b[31mWARNING: Something went wrong during vbmf, no output produced.\u001b[0m\n"
     ]
    },
    {
     "name": "stdout",
     "output_type": "stream",
     "text": [
      "Base.LinAlg.SingularException(9)\n",
      "n = 29\n"
     ]
    },
    {
     "name": "stderr",
     "output_type": "stream",
     "text": [
      "\u001b[1m\u001b[31mWARNING: Something went wrong during vbmf, no output produced.\u001b[0m\n"
     ]
    },
    {
     "name": "stdout",
     "output_type": "stream",
     "text": [
      "Base.LinAlg.SingularException(7)\n",
      "n = 30\n"
     ]
    },
    {
     "name": "stderr",
     "output_type": "stream",
     "text": [
      "\u001b[1m\u001b[31mWARNING: Something went wrong during vbmf, no output produced.\u001b[0m\n"
     ]
    },
    {
     "name": "stdout",
     "output_type": "stream",
     "text": [
      "Base.LinAlg.SingularException(10)\n",
      "n = 31\n",
      "n = 32\n"
     ]
    },
    {
     "name": "stderr",
     "output_type": "stream",
     "text": [
      "\u001b[1m\u001b[31mWARNING: Something went wrong during vbmf, no output produced.\u001b[0m\n",
      "\u001b[1m\u001b[31mWARNING: One of the input matrices is empty, ending.\u001b[0m\n"
     ]
    },
    {
     "name": "stdout",
     "output_type": "stream",
     "text": [
      "n = 33\n",
      "Base.LinAlg.SingularException(10)\n",
      "n = 34\n",
      "n = 35"
     ]
    },
    {
     "name": "stderr",
     "output_type": "stream",
     "text": [
      "\u001b[1m\u001b[31mWARNING: Something went wrong during vbmf, no output produced.\u001b[0m\n"
     ]
    },
    {
     "name": "stdout",
     "output_type": "stream",
     "text": [
      "\n",
      "Base.LinAlg.SingularException(9)\n",
      "n = 36\n"
     ]
    },
    {
     "name": "stderr",
     "output_type": "stream",
     "text": [
      "\u001b[1m\u001b[31mWARNING: Something went wrong during vbmf, no output produced.\u001b[0m\n"
     ]
    },
    {
     "name": "stdout",
     "output_type": "stream",
     "text": [
      "Base.LinAlg.SingularException(8)\n",
      "n = 37\n",
      "n = 38"
     ]
    },
    {
     "name": "stderr",
     "output_type": "stream",
     "text": [
      "\u001b[1m\u001b[31mWARNING: Something went wrong during vbmf, no output produced.\u001b[0m\n"
     ]
    },
    {
     "name": "stdout",
     "output_type": "stream",
     "text": [
      "\n",
      "Base.LinAlg.SingularException(7)\n",
      "n = 39\n"
     ]
    },
    {
     "name": "stderr",
     "output_type": "stream",
     "text": [
      "\u001b[1m\u001b[31mWARNING: Something went wrong during vbmf, no output produced.\u001b[0m\n"
     ]
    },
    {
     "name": "stdout",
     "output_type": "stream",
     "text": [
      "Base.LinAlg.SingularException(8)\n",
      "n = 40\n",
      "n = 41"
     ]
    },
    {
     "name": "stderr",
     "output_type": "stream",
     "text": [
      "\u001b[1m\u001b[31mWARNING: Something went wrong during vbmf, no output produced.\u001b[0m\n"
     ]
    },
    {
     "name": "stdout",
     "output_type": "stream",
     "text": [
      "\n",
      "n = 42\n",
      "Base.LinAlg.SingularException(8)\n",
      "n = 43\n"
     ]
    },
    {
     "name": "stderr",
     "output_type": "stream",
     "text": [
      "\u001b[1m\u001b[31mWARNING: Something went wrong during vbmf, no output produced.\u001b[0m\n"
     ]
    },
    {
     "name": "stdout",
     "output_type": "stream",
     "text": [
      "Base.LinAlg.SingularException(7)\n",
      "n = 44\n"
     ]
    },
    {
     "name": "stderr",
     "output_type": "stream",
     "text": [
      "\u001b[1m\u001b[31mWARNING: Something went wrong during vbmf, no output produced.\u001b[0m\n"
     ]
    },
    {
     "name": "stdout",
     "output_type": "stream",
     "text": [
      "Base.LinAlg.SingularException(7)\n",
      "n = 45\n"
     ]
    },
    {
     "name": "stderr",
     "output_type": "stream",
     "text": [
      "\u001b[1m\u001b[31mWARNING: Something went wrong during vbmf, no output produced.\u001b[0m\n"
     ]
    },
    {
     "name": "stdout",
     "output_type": "stream",
     "text": [
      "Base.LinAlg.SingularException(5)\n",
      "n = 46\n",
      "n = 47"
     ]
    },
    {
     "name": "stderr",
     "output_type": "stream",
     "text": [
      "\u001b[1m\u001b[31mWARNING: Something went wrong during vbmf, no output produced.\u001b[0m\n"
     ]
    },
    {
     "name": "stdout",
     "output_type": "stream",
     "text": [
      "\n",
      "Base.LinAlg.SingularException(10)\n",
      "n = 48\n"
     ]
    },
    {
     "name": "stderr",
     "output_type": "stream",
     "text": [
      "\u001b[1m\u001b[31mWARNING: Something went wrong during vbmf, no output produced.\u001b[0m\n"
     ]
    },
    {
     "name": "stdout",
     "output_type": "stream",
     "text": [
      "Base.LinAlg.SingularException(7)\n",
      "n = 49\n"
     ]
    },
    {
     "name": "stderr",
     "output_type": "stream",
     "text": [
      "\u001b[1m\u001b[31mWARNING: Something went wrong during vbmf, no output produced.\u001b[0m\n"
     ]
    },
    {
     "name": "stdout",
     "output_type": "stream",
     "text": [
      "Base.LinAlg.SingularException(6)\n",
      "n = 50\n"
     ]
    },
    {
     "name": "stderr",
     "output_type": "stream",
     "text": [
      "\u001b[1m\u001b[31mWARNING: Something went wrong during vbmf, no output produced.\u001b[0m\n"
     ]
    }
   ],
   "source": [
    "# evaluate how many columns of H are needed for better results\n",
    "Hvec = [1; 2; 3; 5; 7; 10]\n",
    "output_path = \"/home/vit/Dropbox/vyzkum/cisco/data/vbmf_classification\"\n",
    "\n",
    "inputs = Dict()\n",
    "inputs[\"p_vec\"] =  [0.01]\n",
    "inputs[\"nclass_iter\"] = 50\n",
    "inputs[\"niter\"] = 200\n",
    "inputs[\"eps\"] = 1e-3\n",
    "inputs[\"solver\"] = \"basic\"\n",
    "inputs[\"H\"] = 1\n",
    "inputs[\"scale_y\"] = true\n",
    "inputs[\"dataset_name\"] = dataset_name\n",
    "\n",
    "save_path = string(output_path, \"/Htest\")\n",
    "mkpath(save_path)\n",
    "\n",
    "for H in Hvec\n",
    "    inputs[\"H\"] = H\n",
    "    println(\"H = $H\")\n",
    "    res_mat = validate_dataset(data, inputs, verb = false)\n",
    "    fname = string(\"$(inputs[\"p_vec\"][1])_$H\")\n",
    "    save(\"$save_path/$fname.jld\", \"res_mat\", res_mat, \"inputs\", inputs)\n",
    "end"
   ]
  },
  {
   "cell_type": "code",
   "execution_count": 98,
   "metadata": {},
   "outputs": [
    {
     "name": "stdout",
     "output_type": "stream",
     "text": [
      "\n",
      "Mean classsification error, basic solver, dataset BrownCreeper, H = 1, 50 samples: \n",
      " \n",
      " perc. of known labels | error rate | EER | false pos. | false neg. | neg. samples | pos. samples \n",
      "------------------------------------------------------------------------------------------------------\n",
      "        0.01                0.390    0.388     137.8       74.0          348.3         194.7 \n",
      "\n",
      "Mean classsification error, basic solver, dataset BrownCreeper, H = 10, 50 samples: \n",
      " \n",
      " perc. of known labels | error rate | EER | false pos. | false neg. | neg. samples | pos. samples \n",
      "------------------------------------------------------------------------------------------------------\n",
      "        0.01                0.383    0.500     29.1       178.8          348.1         194.9 \n",
      "\n",
      "Mean classsification error, basic solver, dataset BrownCreeper, H = 2, 50 samples: \n",
      " \n",
      " perc. of known labels | error rate | EER | false pos. | false neg. | neg. samples | pos. samples \n",
      "------------------------------------------------------------------------------------------------------\n",
      "        0.01                0.316    0.310     115.3       56.4          347.9         195.1 \n",
      "\n",
      "Mean classsification error, basic solver, dataset BrownCreeper, H = 3, 50 samples: \n",
      " \n",
      " perc. of known labels | error rate | EER | false pos. | false neg. | neg. samples | pos. samples \n",
      "------------------------------------------------------------------------------------------------------\n",
      "        0.01                0.332    0.321     124.5       55.7          348.0         195.0 \n",
      "\n",
      "Mean classsification error, basic solver, dataset BrownCreeper, H = 5, 50 samples: \n",
      " \n",
      " perc. of known labels | error rate | EER | false pos. | false neg. | neg. samples | pos. samples \n",
      "------------------------------------------------------------------------------------------------------\n",
      "        0.01                0.333    0.367     84.8       95.8          348.0         195.0 \n",
      "\n",
      "Mean classsification error, basic solver, dataset BrownCreeper, H = 7, 50 samples: \n",
      " \n",
      " perc. of known labels | error rate | EER | false pos. | false neg. | neg. samples | pos. samples \n",
      "------------------------------------------------------------------------------------------------------\n",
      "        0.01                0.371    0.461     48.6       152.6          348.0         195.0 \n"
     ]
    }
   ],
   "source": [
    "flist = readdir(save_path)\n",
    "for f in flist\n",
    "    res = load(string(save_path, \"/\", f))\n",
    "    table_summary(res)\n",
    "end"
   ]
  }
 ],
 "metadata": {
  "kernelspec": {
   "display_name": "Julia 0.5.2",
   "language": "julia",
   "name": "julia-0.5"
  },
  "language_info": {
   "file_extension": ".jl",
   "mimetype": "application/julia",
   "name": "julia",
   "version": "0.5.2"
  }
 },
 "nbformat": 4,
 "nbformat_minor": 2
}
