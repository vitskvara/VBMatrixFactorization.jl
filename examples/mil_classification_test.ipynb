{
 "cells": [
  {
   "cell_type": "code",
   "execution_count": 5,
   "metadata": {
    "collapsed": true
   },
   "outputs": [],
   "source": [
    "using JLD\n",
    "using PyPlot\n",
    "using StatsBase\n",
    "using Distributions\n",
    "using VBMatrixFactorization"
   ]
  },
  {
   "cell_type": "code",
   "execution_count": 24,
   "metadata": {
    "scrolled": true
   },
   "outputs": [
    {
     "name": "stderr",
     "output_type": "stream",
     "text": [
      "WARNING: Method definition getBag(Base.Dict{String, Any}, String, Int64) in module Main at /home/vit/.julia/v0.5/VBMatrixFactorization/examples/mil_util.jl:10 overwritten at /home/vit/.julia/v0.5/VBMatrixFactorization/examples/mil_util.jl:10.\n",
      "\u001b[1m\u001b[31mWARNING: replacing docs for 'getBag :: Tuple{Dict{String,Any},String,Int64}' in module 'Main'.\u001b[0m\n",
      "WARNING: Method definition getY(Base.Dict{String, Any}, Int64) in module Main at /home/vit/.julia/v0.5/VBMatrixFactorization/examples/mil_util.jl:25 overwritten at /home/vit/.julia/v0.5/VBMatrixFactorization/examples/mil_util.jl:25.\n",
      "\u001b[1m\u001b[31mWARNING: replacing docs for 'getY :: Tuple{Dict{String,Any},Int64}' in module 'Main'.\u001b[0m\n",
      "WARNING: Method definition getLabel(Base.Dict{String, Any}, Int64) in module Main at /home/vit/.julia/v0.5/VBMatrixFactorization/examples/mil_util.jl:35 overwritten at /home/vit/.julia/v0.5/VBMatrixFactorization/examples/mil_util.jl:35.\n",
      "\u001b[1m\u001b[31mWARNING: replacing docs for 'getLabel :: Tuple{Dict{String,Any},Int64}' in module 'Main'.\u001b[0m\n",
      "WARNING: Method definition get_matrices(Base.Dict{String, Any}, Base.UnitRange{Int64}) in module Main at /home/vit/.julia/v0.5/VBMatrixFactorization/examples/mil_util.jl:44 overwritten at /home/vit/.julia/v0.5/VBMatrixFactorization/examples/mil_util.jl:44.\n",
      "\u001b[1m\u001b[31mWARNING: replacing docs for 'get_matrices :: Tuple{Dict{String,Any},UnitRange{Int64}}' in module 'Main'.\u001b[0m\n",
      "WARNING: Method definition train(Base.Dict{String, Any}, Base.UnitRange{Int64}, String, Int64, Int64) in module Main at /home/vit/.julia/v0.5/VBMatrixFactorization/examples/mil_util.jl:91 overwritten at /home/vit/.julia/v0.5/VBMatrixFactorization/examples/mil_util.jl:91.\n",
      "WARNING: Method definition #train(Array{Any, 1}, Main.#train, Base.Dict{String, Any}, Base.UnitRange{Int64}, String, Int64, Int64) in module Main overwritten.\n",
      "\u001b[1m\u001b[31mWARNING: replacing docs for 'train :: Tuple{Dict{String,Any},UnitRange{Int64},String,Int64,Int64}' in module 'Main'.\u001b[0m\n",
      "WARNING: Method definition ols(Array{Float64, 2}, Array{Float64, 2}) in module Main at /home/vit/.julia/v0.5/VBMatrixFactorization/examples/mil_util.jl:129 overwritten at /home/vit/.julia/v0.5/VBMatrixFactorization/examples/mil_util.jl:129.\n",
      "\u001b[1m\u001b[31mWARNING: replacing docs for 'ols :: Tuple{Array{Float64,2},Array{Float64,2}}' in module 'Main'.\u001b[0m\n",
      "WARNING: Method definition classify(Any, Any, Array{Float64, 2}) in module Main at /home/vit/.julia/v0.5/VBMatrixFactorization/examples/mil_util.jl:140 overwritten at /home/vit/.julia/v0.5/VBMatrixFactorization/examples/mil_util.jl:140.\n",
      "\u001b[1m\u001b[31mWARNING: replacing docs for 'classify :: Tuple{Any,Any,Array{Float64,2}}' in module 'Main'.\u001b[0m\n",
      "WARNING: Method definition test_one(Any, Any, Int64, Base.Dict{String, Any}) in module Main at /home/vit/.julia/v0.5/VBMatrixFactorization/examples/mil_util.jl:164 overwritten at /home/vit/.julia/v0.5/VBMatrixFactorization/examples/mil_util.jl:164.\n",
      "\u001b[1m\u001b[31mWARNING: replacing docs for 'test_one :: Tuple{Any,Any,Int64,Dict{String,Any}}' in module 'Main'.\u001b[0m\n",
      "WARNING: Method definition validate(Float64, Base.Dict{String, Any}, Int64, String, Int64) in module Main at /home/vit/.julia/v0.5/VBMatrixFactorization/examples/mil_util.jl:214 overwritten at /home/vit/.julia/v0.5/VBMatrixFactorization/examples/mil_util.jl:214.\n",
      "WARNING: Method definition #validate(Array{Any, 1}, Main.#validate, Float64, Base.Dict{String, Any}, Int64, String, Int64) in module Main overwritten.\n",
      "\u001b[1m\u001b[31mWARNING: replacing docs for 'validate :: Tuple{Float64,Dict{String,Any},Int64,String,Int64}' in module 'Main'.\u001b[0m\n",
      "WARNING: Method definition validate_dataset(Base.Dict{String, Any}, Base.Dict{Any, Any}) in module Main at /home/vit/.julia/v0.5/VBMatrixFactorization/examples/mil_util.jl:249 overwritten at /home/vit/.julia/v0.5/VBMatrixFactorization/examples/mil_util.jl:249.\n",
      "WARNING: Method definition #validate_dataset(Array{Any, 1}, Main.#validate_dataset, Base.Dict{String, Any}, Base.Dict{Any, Any}) in module Main overwritten.\n",
      "\u001b[1m\u001b[31mWARNING: replacing docs for 'validate_dataset :: Tuple{Dict{String,Any},Dict{Any,Any}}' in module 'Main'.\u001b[0m\n",
      "WARNING: Method definition validate_datasets(Base.Dict{Any, Any}, Base.UnitRange{Int64}, String, String) in module Main at /home/vit/.julia/v0.5/VBMatrixFactorization/examples/mil_util.jl:280 overwritten at /home/vit/.julia/v0.5/VBMatrixFactorization/examples/mil_util.jl:280.\n",
      "\u001b[1m\u001b[31mWARNING: replacing docs for 'validate_datasets :: Tuple{Dict{Any,Any},UnitRange{Int64},String,String}' in module 'Main'.\u001b[0m\n",
      "WARNING: Method definition table_summary(Base.Dict{String, Any}) in module Main at /home/vit/.julia/v0.5/VBMatrixFactorization/examples/mil_util.jl:326 overwritten at /home/vit/.julia/v0.5/VBMatrixFactorization/examples/mil_util.jl:326.\n",
      "WARNING: Method definition #table_summary(Array{Any, 1}, Main.#table_summary, Base.Dict{String, Any}) in module Main overwritten.\n",
      "\u001b[1m\u001b[31mWARNING: replacing docs for 'table_summary :: Tuple{Dict{String,Any}}' in module 'Main'.\u001b[0m\n",
      "WARNING: Method definition plot_statistics(Base.Dict{String, Any}) in module Main at /home/vit/.julia/v0.5/VBMatrixFactorization/examples/mil_util.jl:366 overwritten at /home/vit/.julia/v0.5/VBMatrixFactorization/examples/mil_util.jl:366.\n",
      "WARNING: Method definition #plot_statistics(Array{Any, 1}, Main.#plot_statistics, Base.Dict{String, Any}) in module Main overwritten.\n",
      "\u001b[1m\u001b[31mWARNING: replacing docs for 'plot_statistics :: Tuple{Dict{String,Any}}' in module 'Main'.\u001b[0m\n"
     ]
    }
   ],
   "source": [
    "# load the script with auxilliary functions\n",
    "include(\"mil_util.jl\");"
   ]
  },
  {
   "cell_type": "code",
   "execution_count": 8,
   "metadata": {},
   "outputs": [
    {
     "data": {
      "text/plain": [
       "21-element Array{String,1}:\n",
       " \"BrownCreeper.jld\"    \n",
       " \"CorelAfrican.jld\"    \n",
       " \"CorelBeach.jld\"      \n",
       " \".DS_Store\"           \n",
       " \"Elephant.jld\"        \n",
       " \"Fox.jld\"             \n",
       " \"Musk1.jld\"           \n",
       " \"Musk2.jld\"           \n",
       " \"Mutagenesis1.jld\"    \n",
       " \"Mutagenesis2.jld\"    \n",
       " \"Newsgroups1.jld\"     \n",
       " \"Newsgroups2.jld\"     \n",
       " \"Newsgroups3.jld\"     \n",
       " \"Protein.jld\"         \n",
       " \"Tiger.jld\"           \n",
       " \"UCSBBreastCancer.jld\"\n",
       " \"Web1.jld\"            \n",
       " \"Web2.jld\"            \n",
       " \"Web3.jld\"            \n",
       " \"Web4.jld\"            \n",
       " \"WinterWren.jld\"      "
      ]
     },
     "execution_count": 8,
     "metadata": {},
     "output_type": "execute_result"
    }
   ],
   "source": [
    "# list all available data\n",
    "# CHANGE THE FOLDER TO YOUR LOCAL FOLDER\n",
    "mil_path = \"/home/vit/Dropbox/vyzkum/cisco/data/milproblems\";\n",
    "readdir(mil_path)"
   ]
  },
  {
   "cell_type": "code",
   "execution_count": 22,
   "metadata": {
    "collapsed": true
   },
   "outputs": [],
   "source": [
    "# load a dataset\n",
    "dataset_name = \"BrownCreeper\"\n",
    "data = load(string(mil_path, \"/\", dataset_name, \".jld\"));"
   ]
  },
  {
   "cell_type": "code",
   "execution_count": 25,
   "metadata": {},
   "outputs": [
    {
     "name": "stdout",
     "output_type": "stream",
     "text": [
      "Extracted 3 negative and 2 positive bags.\n",
      "Factorization finished after 200 iterations, eps = 0.0012592928493365418\n",
      "Factorization finished after 3 iterations, eps = 0.00034027204276733234\n"
     ]
    },
    {
     "data": {
      "text/plain": [
       "(0.26519337016574585,0.2486074270557029,107,37,348,195)"
      ]
     },
     "execution_count": 25,
     "metadata": {},
     "output_type": "execute_result"
    }
   ],
   "source": [
    "mer, eer, fp, fn, n0, n1 = validate(0.01, data, 200, \"basic\", 2, eps = 1e-3)"
   ]
  },
  {
   "cell_type": "code",
   "execution_count": 12,
   "metadata": {},
   "outputs": [
    {
     "data": {
      "text/plain": [
       "\"BrownCreeper\""
      ]
     },
     "execution_count": 12,
     "metadata": {},
     "output_type": "execute_result"
    }
   ],
   "source": [
    "inputs = Dict()\n",
    "inputs[\"p_vec\"] =  [0.01]\n",
    "inputs[\"nclass_iter\"] = 10\n",
    "inputs[\"niter\"] = 200\n",
    "inputs[\"eps\"] = 1e-3\n",
    "inputs[\"solver\"] = \"basic\"\n",
    "inputs[\"H\"] = 1\n",
    "inputs[\"dataset_name\"] = dataset_name"
   ]
  },
  {
   "cell_type": "code",
   "execution_count": 207,
   "metadata": {},
   "outputs": [
    {
     "name": "stdout",
     "output_type": "stream",
     "text": [
      "Extracted 4 negative and 1 positive bags.\n",
      "Factorization finished after 3 iterations, eps = 0.00010562719369293005\n",
      "Factorization finished after 5 iterations, eps = 9.862815643205713e-5\n",
      "Extracted 6 negative and 4 positive bags.\n",
      "Factorization finished after 2 iterations, eps = 0.0009396233802370985\n",
      "Factorization finished after 3 iterations, eps = 1.1750535009350352e-5\n",
      "Extracted 15 negative and 12 positive bags.\n",
      "Factorization finished after 2 iterations, eps = 0.0007121502911157228\n",
      "Factorization finished after 4 iterations, eps = 5.7873461460668505e-5\n",
      "Extracted 32 negative and 22 positive bags.\n",
      "Factorization finished after 3 iterations, eps = 1.1461790963312838e-5\n",
      "Factorization finished after 3 iterations, eps = 5.612346717062661e-5\n",
      "Extracted 118 negative and 62 positive bags.\n",
      "Factorization finished after 3 iterations, eps = 4.02569374175157e-6\n",
      "Factorization finished after 3 iterations, eps = 0.0006861959569245422\n",
      "Extracted 168 negative and 106 positive bags.\n",
      "Factorization finished after 2 iterations, eps = 0.0009814392693930133\n",
      "Factorization finished after 4 iterations, eps = 3.5827605856980105e-5\n",
      "Extracted 258 negative and 153 positive bags.\n",
      "Factorization finished after 2 iterations, eps = 0.0005536514785870052\n",
      "Factorization finished after 4 iterations, eps = 2.8554096614660633e-5\n",
      "Extracted 309 negative and 184 positive bags.\n",
      "Factorization finished after 2 iterations, eps = 0.0008917886722408718\n",
      "Factorization finished after 3 iterations, eps = 0.00011619384539701719\n"
     ]
    },
    {
     "data": {
      "text/plain": [
       "8×7 Array{Float64,2}:\n",
       " 0.01  0.311234  0.319003  101.0  68.0  347.0  196.0\n",
       " 0.02  0.453532  0.35933   239.0   5.0  345.0  193.0\n",
       " 0.05  0.284069  0.267608  109.0  39.0  336.0  185.0\n",
       " 0.1   0.402834  0.32352   190.0   9.0  319.0  175.0\n",
       " 0.33  0.366848  0.306835  124.0  11.0  233.0  135.0\n",
       " 0.5   0.40146   0.314358  105.0   5.0  183.0   91.0\n",
       " 0.75  0.291971  0.233016   37.0   3.0   93.0   44.0\n",
       " 0.9   0.472727  0.309524   26.0   0.0   42.0   13.0"
      ]
     },
     "execution_count": 207,
     "metadata": {},
     "output_type": "execute_result"
    }
   ],
   "source": [
    "res_mat = validate_dataset(data, inputs)"
   ]
  },
  {
   "cell_type": "code",
   "execution_count": 208,
   "metadata": {
    "collapsed": true
   },
   "outputs": [],
   "source": [
    "# save the outputs and inputs\n",
    "output_path = \"/home/vit/Dropbox/vyzkum/cisco/data/vbmf_classification\"\n",
    "fname = string(dataset_name, \"_\", inputs[\"solver\"], \"_\", inputs[\"H\"], \"_\", inputs[\"nclass_iter\"])\n",
    "save(\"$output_path/$fname.jld\", \"res_mat\", res_mat, \"inputs\", inputs)"
   ]
  },
  {
   "cell_type": "code",
   "execution_count": 209,
   "metadata": {},
   "outputs": [
    {
     "data": {
      "text/plain": [
       "Dict{String,Any} with 2 entries:\n",
       "  \"res_mat\" => [0.01 0.311234 … 347.0 196.0; 0.02 0.453532 … 345.0 193.0; … ; 0…\n",
       "  \"inputs\"  => Dict{Any,Any}(Pair{Any,Any}(\"niter\",200),Pair{Any,Any}(\"eps\",0.0…"
      ]
     },
     "execution_count": 209,
     "metadata": {},
     "output_type": "execute_result"
    }
   ],
   "source": [
    "# test their loading\n",
    "output = load(\"$output_path/$fname.jld\")"
   ]
  }
 ],
 "metadata": {
  "kernelspec": {
   "display_name": "Julia 0.5.2",
   "language": "julia",
   "name": "julia-0.5"
  },
  "language_info": {
   "file_extension": ".jl",
   "mimetype": "application/julia",
   "name": "julia",
   "version": "0.5.2"
  }
 },
 "nbformat": 4,
 "nbformat_minor": 2
}
